{
  "nbformat": 4,
  "nbformat_minor": 0,
  "metadata": {
    "colab": {
      "provenance": [],
      "authorship_tag": "ABX9TyM35uzcnqMJYavWKUusTpiT",
      "include_colab_link": true
    },
    "kernelspec": {
      "name": "python3",
      "display_name": "Python 3"
    },
    "language_info": {
      "name": "python"
    }
  },
  "cells": [
    {
      "cell_type": "markdown",
      "metadata": {
        "id": "view-in-github",
        "colab_type": "text"
      },
      "source": [
        "<a href=\"https://colab.research.google.com/github/maevezhw/regularization-from-scratch/blob/main/Logistic%20Regression%20with%20Regularization%20from%20Scratch.ipynb\" target=\"_parent\"><img src=\"https://colab.research.google.com/assets/colab-badge.svg\" alt=\"Open In Colab\"/></a>"
      ]
    },
    {
      "cell_type": "markdown",
      "source": [
        "# Multiclass Logistic Regression from Scratch"
      ],
      "metadata": {
        "id": "GbyGBGjM8YKL"
      }
    },
    {
      "cell_type": "markdown",
      "source": [
        "\n",
        "\n",
        "* Nama: Maeve Zahwa Adriana Crown Zaki\n",
        "* NIM: 21/477527/PA/20675\n",
        "* Kelas: KOM A\n",
        "\n"
      ],
      "metadata": {
        "id": "SEghFj348hiE"
      }
    },
    {
      "cell_type": "markdown",
      "source": [
        "## Import Library"
      ],
      "metadata": {
        "id": "_gqvXHy7943p"
      }
    },
    {
      "cell_type": "code",
      "execution_count": null,
      "metadata": {
        "id": "-bdmyavUkMYr"
      },
      "outputs": [],
      "source": [
        "import sys\n",
        "import pandas as pd\n",
        "import matplotlib.pyplot as plt\n",
        "import numpy as np\n",
        "from sklearn import datasets\n",
        "from sklearn.datasets import load_iris\n",
        "from sklearn.model_selection import train_test_split\n",
        "from sklearn.preprocessing import StandardScaler"
      ]
    },
    {
      "cell_type": "markdown",
      "source": [
        "## 1. Load the Iris data from scikit learn and divide the data into two parts: training and test data with ratio 80:20. Make sure that the class within each parts of the data is balance. (score: 1)"
      ],
      "metadata": {
        "id": "B4bPjsDf99PM"
      }
    },
    {
      "cell_type": "markdown",
      "source": [
        "Pertama, dataset Iris diunggah terlebih dahulu menggunakan bantuan library, kemudian untuk menentukan fitur apa yang akan digunakan, perlu dilihat dulu ada fitur apa saja di dalam dataset tersebut"
      ],
      "metadata": {
        "id": "w8gJGC9r-FNW"
      }
    },
    {
      "cell_type": "code",
      "source": [
        "iris = datasets.load_iris()\n",
        "print(iris['feature_names'])"
      ],
      "metadata": {
        "colab": {
          "base_uri": "https://localhost:8080/"
        },
        "id": "_gEv-fpGkPu6",
        "outputId": "921cc87d-06e4-4605-e369-0f49e81af6d4"
      },
      "execution_count": null,
      "outputs": [
        {
          "output_type": "stream",
          "name": "stdout",
          "text": [
            "['sepal length (cm)', 'sepal width (cm)', 'petal length (cm)', 'petal width (cm)']\n"
          ]
        }
      ]
    },
    {
      "cell_type": "markdown",
      "source": [
        "Di sini saya menggunakan fitur Sepal Length dan Sepal Width serta menggunakan default target dari dataset sebagai targetnya"
      ],
      "metadata": {
        "id": "O5u5wD10-OxM"
      }
    },
    {
      "cell_type": "code",
      "source": [
        "X = iris.data[:, :2]\n",
        "y = iris.target"
      ],
      "metadata": {
        "id": "PYKN4sor-B0e"
      },
      "execution_count": null,
      "outputs": []
    },
    {
      "cell_type": "code",
      "source": [
        "print(X[:5]) # menampilkan 5 data teratas"
      ],
      "metadata": {
        "colab": {
          "base_uri": "https://localhost:8080/"
        },
        "id": "wik_RghyDqqi",
        "outputId": "7ed3f509-810e-41ba-856f-4e219ab297f2"
      },
      "execution_count": null,
      "outputs": [
        {
          "output_type": "stream",
          "name": "stdout",
          "text": [
            "[[5.1 3.5]\n",
            " [4.9 3. ]\n",
            " [4.7 3.2]\n",
            " [4.6 3.1]\n",
            " [5.  3.6]]\n"
          ]
        }
      ]
    },
    {
      "cell_type": "markdown",
      "source": [
        "Sebelum memroses data, dilakukan proses feature scaling pada data fitur yang ada agar hasil prediksi lebih akurat (terutama karena data akan diproses menggunakan logistic regression yang linear) dengan menggunakan bantuan dari library preprocessing."
      ],
      "metadata": {
        "id": "sWIujUNSBlvZ"
      }
    },
    {
      "cell_type": "code",
      "source": [
        "scaler = StandardScaler()\n",
        "X = scaler.fit_transform(X)"
      ],
      "metadata": {
        "id": "nOvA6QmeBa9B"
      },
      "execution_count": null,
      "outputs": []
    },
    {
      "cell_type": "code",
      "source": [
        "print(X[:5])"
      ],
      "metadata": {
        "colab": {
          "base_uri": "https://localhost:8080/"
        },
        "id": "jTLNa6gcDEEb",
        "outputId": "34a3cf2b-3b46-4e01-b433-719d630b5444"
      },
      "execution_count": null,
      "outputs": [
        {
          "output_type": "stream",
          "name": "stdout",
          "text": [
            "[[-0.90068117  1.01900435]\n",
            " [-1.14301691 -0.13197948]\n",
            " [-1.38535265  0.32841405]\n",
            " [-1.50652052  0.09821729]\n",
            " [-1.02184904  1.24920112]]\n"
          ]
        }
      ]
    },
    {
      "cell_type": "markdown",
      "source": [
        "Data kemudian di-split train:test = 80%: 20%"
      ],
      "metadata": {
        "id": "KUN0lZbtEW-f"
      }
    },
    {
      "cell_type": "code",
      "source": [
        "X_train, X_test, y_train, y_test = train_test_split(X, y, train_size=0.8, random_state=42)"
      ],
      "metadata": {
        "id": "DYc40i8CkRnF"
      },
      "execution_count": null,
      "outputs": []
    },
    {
      "cell_type": "markdown",
      "source": [
        "Dan kemudian dilihat persebarannya apakah jumlah data per kelas di train dan test sudah merata, dapat dilihat dari kode di bawah bahwasanya persebarannya sudah cukup merata"
      ],
      "metadata": {
        "id": "aK56nFy6EfP3"
      }
    },
    {
      "cell_type": "code",
      "source": [
        "from collections import Counter\n",
        "print(Counter(y_train))\n",
        "print(Counter(y_test))"
      ],
      "metadata": {
        "colab": {
          "base_uri": "https://localhost:8080/"
        },
        "id": "P7R29cx3khnB",
        "outputId": "54aa7750-0649-461f-d7f7-8bc1aeecf8a5"
      },
      "execution_count": null,
      "outputs": [
        {
          "output_type": "stream",
          "name": "stdout",
          "text": [
            "Counter({1: 41, 0: 40, 2: 39})\n",
            "Counter({2: 11, 0: 10, 1: 9})\n"
          ]
        }
      ]
    },
    {
      "cell_type": "markdown",
      "source": [
        "## 2. Using scatter plot (matplotlib), visualise the Iris data (training part only) (score: 1)"
      ],
      "metadata": {
        "id": "XNs5IuAjGQvs"
      }
    },
    {
      "cell_type": "code",
      "source": [
        "# this formatter will label the colorbar with the correct target names\n",
        "formatter = plt.FuncFormatter(lambda i, *args: iris.target_names[int(i)])\n",
        "\n",
        "plt.figure(figsize=(5, 4))\n",
        "plt.scatter(X_train[:, 0], X_train[:, 1], c=y_train)\n",
        "plt.colorbar(ticks=[0, 1, 2], format=formatter)\n",
        "plt.xlabel(iris.feature_names[0])\n",
        "plt.ylabel(iris.feature_names[1])\n",
        "\n",
        "plt.tight_layout()\n",
        "plt.show()"
      ],
      "metadata": {
        "colab": {
          "base_uri": "https://localhost:8080/",
          "height": 54
        },
        "id": "r5FUqQWVGXDK",
        "outputId": "dee97b03-05ff-4fe6-f63d-060d30270668"
      },
      "execution_count": null,
      "outputs": [
        {
          "output_type": "display_data",
          "data": {
            "text/plain": [
              "<Figure size 500x400 with 2 Axes>"
            ],
            "image/png": "[encoded data removed]"
          },
          "metadata": {}
        }
      ]
    },
    {
      "cell_type": "markdown",
      "source": [
        "## 3. Define a python function for sigmoid function (score:1)"
      ],
      "metadata": {
        "id": "kpdpPbDKGlNf"
      }
    },
    {
      "cell_type": "code",
      "source": [
        "def sigmoid(z):\n",
        "    return 1/(1+np.exp(-z))"
      ],
      "metadata": {
        "id": "9V2kyj65klTs"
      },
      "execution_count": null,
      "outputs": []
    },
    {
      "cell_type": "markdown",
      "source": [
        "## 4. Define a python function of the cost function and add regularisation (score:2)"
      ],
      "metadata": {
        "id": "2vuJDT3OGnsr"
      }
    },
    {
      "cell_type": "code",
      "source": [
        "def cost_function(theta, x, y, lambda_, reg):\n",
        "    m, n = x.shape # m menandakan banyak baris dan n menandakan banyak kolom\n",
        "    hyp = sigmoid(np.dot(x, theta)) # hypothesis pada logistic regression menggunakan fungsi sigmoid dengan parameter z = x.theta atau theta transpose.x\n",
        "\n",
        "    # menghitung cost function pada fungsi tanpa regularisasi\n",
        "    cost = (y*np.log(hyp))+((1-y)*np.log(1-hyp))\n",
        "    normal_cost = (-1/m) * np.sum(cost)\n",
        "\n",
        "    # menghitung cost function pada fungsi dengan regularisasi\n",
        "    reg_func = lambda_/(2*m) * np.sum(np.square(theta[1:]))\n",
        "    total_regularized_cost = normal_cost + reg_func\n",
        "\n",
        "    # menentukan nilai output berdasar permintaan (apakah diregularisasi atau tidak)\n",
        "    if reg: return total_regularized_cost\n",
        "    else: return normal_cost\n"
      ],
      "metadata": {
        "id": "1vWINvc6koOV"
      },
      "execution_count": null,
      "outputs": []
    },
    {
      "cell_type": "markdown",
      "source": [
        "## 5. Define a python function for the Gradient Descent algorithm (score: 1)"
      ],
      "metadata": {
        "id": "MyYubBztIQNM"
      }
    },
    {
      "cell_type": "code",
      "source": [
        "def gradient_descent (theta, x, y, lambda_, alpha, max_iter, reg):\n",
        "    m, n = x.shape # m = banyak baris, n = banyak kolom\n",
        "    costs = [] # menyimpan histori perubahan nilai cost\n",
        "    theta_temp = theta\n",
        "\n",
        "    for i in range(max_iter): # melakukan pengulangan sebanyak maximum iteration\n",
        "        hyp = sigmoid(np.dot(x, theta_temp)) # hypothesis\n",
        "\n",
        "        # menghitung nilai variabel yang digunakan untuk gradient descent\n",
        "        grad = (1/m) * np.dot(x.T, (hyp-y))\n",
        "\n",
        "        if reg: # hanya ditambahkan jika diminta perhitungan fungsi yang telah di-regularisasi\n",
        "          grad[1:] += (lambda_/m) * theta_temp[1:] # hanya dari theta ke-1 karena sesuai rumus grad.descent ini hanya untuk j > 0\n",
        "\n",
        "        theta_temp -= alpha * grad # pengurangan pada theta untuk mendapatkan theta terbaik agar hasil cost function minimum\n",
        "\n",
        "        # menyimpan nilai cost untuk setiap theta\n",
        "        costs.append(cost_function(theta_temp, x, y, lambda_, reg))\n",
        "\n",
        "        # menampilkan histori cost tiap 10 iterasi\n",
        "        if i%10 == 0:\n",
        "          print(f\"Cost untuk iterasi ke-{i} : {costs[i]}\")\n",
        "\n",
        "    return theta_temp, costs"
      ],
      "metadata": {
        "id": "_u2t264Dkreb"
      },
      "execution_count": null,
      "outputs": []
    },
    {
      "cell_type": "markdown",
      "source": [
        "## 6. Train your Logistic Regression algorithm on the training data, set learning rate: 0.001 and maximum iteration: 100 (score: 1.5)"
      ],
      "metadata": {
        "id": "rFEcSL24KZyT"
      }
    },
    {
      "cell_type": "markdown",
      "source": [
        "Membuat fungsi train"
      ],
      "metadata": {
        "id": "yH_9XqggRaf9"
      }
    },
    {
      "cell_type": "code",
      "source": [
        "def train(x, y, lambda_, alpha, max_iter, reg):\n",
        "  # pada logistic regression, biasanya ada bias (theta 0 pada hypothesis)\n",
        "  # theta 0 tanpa variabel x (fitur) menandakan bahwasanya ada satu kolom tambahan yang bernilai 1 agar pada hypothesis bagian theta 0 tidak memiliki fitur\n",
        "\n",
        "  bias = np.ones(x.shape[0]) # menambahkan satu kolom bias bernilai 1 sejumlah baris pada x\n",
        "  x_with_bias = np.c_[bias, x] # menggabungkan kolom bias dengan kolom x\n",
        "\n",
        "  # inisialisasi theta awal (barisnya sejumlah kolom X dengan bias dan kolomnya sejumlah banyak kelas)\n",
        "  # nantinya nilai theta tiap fitur akan disimpan per baris (karena itu jumlah baris = jumlah kolom = jumlah fitur)\n",
        "\n",
        "  theta_all_class = np.zeros((x_with_bias.shape[1], len(np.unique(y))))\n",
        "  costs = np.zeros((max_iter, len(np.unique(y))))\n",
        "\n",
        "  for i in range(len(np.unique(y))):\n",
        "    y_train_one_vs_all = np.where(y == i, 1, 0) # one vs all, kalau kelasnya = i, maka nilainya 1, sementara kelas lainnya bernilai 0\n",
        "\n",
        "    print(f\"Class {i}: \\n\")\n",
        "    print(\"Histori cost: \")\n",
        "    theta_all_class[:, i], costs[:, i] = gradient_descent(theta_all_class[:, i], x_with_bias, y_train_one_vs_all, lambda_, alpha, max_iter, reg)\n",
        "    print(f\"\\nTheta: {theta_all_class[:, i]}\\n\")\n",
        "\n",
        "  return (theta_all_class, costs)"
      ],
      "metadata": {
        "id": "_zNPlMTEQ20s"
      },
      "execution_count": null,
      "outputs": []
    },
    {
      "cell_type": "markdown",
      "source": [
        "Latih data train dan simpan hasil theta yang paling optimum dengan nilai lambda = 1, alpha/learning rate = 0.001, max_iter = 100 dan diregularisasi\n"
      ],
      "metadata": {
        "id": "vxJgf9XqSgtJ"
      }
    },
    {
      "cell_type": "code",
      "source": [
        "theta_optimum, cost_total= train(X_train, y_train, 1, 0.001, 100, 1)"
      ],
      "metadata": {
        "colab": {
          "base_uri": "https://localhost:8080/"
        },
        "id": "hcHirXXtSex9",
        "outputId": "4926e87d-7b31-4439-ce47-4547ccd1a731"
      },
      "execution_count": null,
      "outputs": [
        {
          "output_type": "stream",
          "name": "stdout",
          "text": [
            "Class 0: \n",
            "\n",
            "Histori cost: \n",
            "Cost untuk iterasi ke-0 : 0.6929255437222179\n",
            "Cost untuk iterasi ke-10 : 0.690715986399718\n",
            "Cost untuk iterasi ke-20 : 0.6885187639037476\n",
            "Cost untuk iterasi ke-30 : 0.6863338064772019\n",
            "Cost untuk iterasi ke-40 : 0.6841610445139438\n",
            "Cost untuk iterasi ke-50 : 0.6820004085642215\n",
            "Cost untuk iterasi ke-60 : 0.6798518293399743\n",
            "Cost untuk iterasi ke-70 : 0.6777152377200241\n",
            "Cost untuk iterasi ke-80 : 0.6755905647551556\n",
            "Cost untuk iterasi ke-90 : 0.6734777416730853\n",
            "\n",
            "Theta: [-0.01648205 -0.03195749  0.02938216]\n",
            "\n",
            "Class 1: \n",
            "\n",
            "Histori cost: \n",
            "Cost untuk iterasi ke-0 : 0.6930663088772686\n",
            "Cost untuk iterasi ke-10 : 0.6922600611211909\n",
            "Cost untuk iterasi ke-20 : 0.6914582849513087\n",
            "Cost untuk iterasi ke-30 : 0.690660955238869\n",
            "Cost untuk iterasi ke-40 : 0.6898680469355266\n",
            "Cost untuk iterasi ke-50 : 0.6890795350744661\n",
            "Cost untuk iterasi ke-60 : 0.6882953947714923\n",
            "Cost untuk iterasi ke-70 : 0.6875156012260951\n",
            "Cost untuk iterasi ke-80 : 0.6867401297224852\n",
            "Cost untuk iterasi ke-90 : 0.6859689556306015\n",
            "\n",
            "Theta: [-0.01563359  0.00511935 -0.02272232]\n",
            "\n",
            "Class 2: \n",
            "\n",
            "Histori cost: \n",
            "Cost untuk iterasi ke-0 : 0.6930257610447927\n",
            "Cost untuk iterasi ke-10 : 0.6918152184559736\n",
            "Cost untuk iterasi ke-20 : 0.6906112912173707\n",
            "Cost untuk iterasi ke-30 : 0.6894139427417075\n",
            "Cost untuk iterasi ke-40 : 0.6882231365569347\n",
            "Cost untuk iterasi ke-50 : 0.6870388363078186\n",
            "Cost untuk iterasi ke-60 : 0.6858610057574861\n",
            "Cost untuk iterasi ke-70 : 0.684689608788928\n",
            "Cost untuk iterasi ke-80 : 0.6835246094064643\n",
            "Cost untuk iterasi ke-90 : 0.6823659717371656\n",
            "\n",
            "Theta: [-0.01726961  0.02885622 -0.00714308]\n",
            "\n"
          ]
        }
      ]
    },
    {
      "cell_type": "markdown",
      "source": [
        "## 7. Find thetha(s) that minimize the cost function, and plot the decision boundary using matplotlib. (score: 1)"
      ],
      "metadata": {
        "id": "57P6_vhkX5-X"
      }
    },
    {
      "cell_type": "code",
      "source": [
        "print(f\"Theta optimum untuk seluruh kelas: \\n{theta_optimum}\")"
      ],
      "metadata": {
        "colab": {
          "base_uri": "https://localhost:8080/"
        },
        "id": "fL8Yex9-TMkL",
        "outputId": "b29542f8-07b1-43b8-bedd-370ebffa9600"
      },
      "execution_count": null,
      "outputs": [
        {
          "output_type": "stream",
          "name": "stdout",
          "text": [
            "Theta optimum untuk seluruh kelas: \n",
            "[[-0.01648205 -0.01563359 -0.01726961]\n",
            " [-0.03195749  0.00511935  0.02885622]\n",
            " [ 0.02938216 -0.02272232 -0.00714308]]\n"
          ]
        }
      ]
    },
    {
      "cell_type": "markdown",
      "source": [
        "Plot Decision Boundary"
      ],
      "metadata": {
        "id": "6ZdFzUOtWevs"
      }
    },
    {
      "cell_type": "code",
      "source": [
        "# Membuat fungsi scatter plot-nya\n",
        "formatter = plt.FuncFormatter(lambda i, *args: iris.target_names[int(i)])\n",
        "\n",
        "plt.figure(figsize=(8, 6))\n",
        "plt.scatter(X_train[:, 0], X_train[:, 1], c=y_train, cmap = 'plasma')\n",
        "plt.colorbar(ticks=[0, 1, 2], format=formatter)\n",
        "plt.xlabel(iris.feature_names[0])\n",
        "plt.ylabel(iris.feature_names[1])\n",
        "\n",
        "# Membuat decision boundaries\n",
        "x1_min, x1_max = X_train[:, 0].min() - 1, X_train[:, 0].max() + 1\n",
        "x2_min, x2_max = X_train[:, 1].min() - 1, X_train[:, 1].max() + 1\n",
        "\n",
        "xx1, xx2 = np.meshgrid(np.arange(x1_min, x1_max, 0.07), np.arange(x2_min, x2_max, 0.07))\n",
        "\n",
        "for i in range(0, 3):\n",
        "    Z = np.dot(np.c_[np.ones(xx1.ravel().shape), xx1.ravel(), xx2.ravel()], theta_optimum) # ditambahkan np.ones(xx1.ravel()) untuk bias\n",
        "    Z = np.argmax(Z, axis=1)\n",
        "    Z = Z.reshape(xx1.shape)\n",
        "\n",
        "plt.contourf(xx1, xx2, Z, alpha=0.4, cmap = 'plasma')\n",
        "\n",
        "plt.xlabel('Sepal length (standardized)')\n",
        "plt.ylabel('Sepal width (standardized)')\n",
        "plt.title('Decision Boundary')\n",
        "plt.legend()\n",
        "plt.show()"
      ],
      "metadata": {
        "id": "HP0tvV-cN7Dn",
        "colab": {
          "base_uri": "https://localhost:8080/",
          "height": 72
        },
        "outputId": "93c0cea3-6ae4-48d4-b6a8-851e77cb91d1"
      },
      "execution_count": null,
      "outputs": [
        {
          "output_type": "stream",
          "name": "stderr",
          "text": [
            "WARNING:matplotlib.legend:No artists with labels found to put in legend.  Note that artists whose label start with an underscore are ignored when legend() is called with no argument.\n"
          ]
        },
        {
          "output_type": "display_data",
          "data": {
            "text/plain": [
              "<Figure size 800x600 with 2 Axes>"
            ],
            "image/png": "[encoded data removed]"
          },
          "metadata": {}
        }
      ]
    },
    {
      "cell_type": "markdown",
      "source": [
        "## 8. Test your Logistic Regression model on the test data, and calculate the accuracy (create function for accuracy, do not use the function from scikit learn library) (score: 1.5)"
      ],
      "metadata": {
        "id": "8p8R0nILtWE9"
      }
    },
    {
      "cell_type": "markdown",
      "source": [
        "Membuat fungsi prediksi"
      ],
      "metadata": {
        "id": "bCbnU5bOvYOB"
      }
    },
    {
      "cell_type": "code",
      "source": [
        "def predict(theta, x):\n",
        "    bias = np.ones(x.shape[0]) # menambahkan satu kolom bias bernilai 1 sejumlah baris pada x\n",
        "    x_bias = np.c_[bias, x] # menggabungkan kolom bias dengan kolom x\n",
        "\n",
        "    hyp_class = sigmoid(np.dot(x_bias, theta)) # menghitung nilai sigmoid untuk tiap kelas pada tiap baris\n",
        "    return np.argmax(hyp_class, axis = 1) # melihat nilai sigmoid di kelas mana yang paling tinggi di tiap barisnya, kemudian mengembalikan index dari kolom tersebut (karena kelas = index kolom, maka sama saja mengembalikan kelas yg sesuai)"
      ],
      "metadata": {
        "id": "cLXPGpl8N9Y8"
      },
      "execution_count": null,
      "outputs": []
    },
    {
      "cell_type": "markdown",
      "source": [
        "Melakukan prediksi pada data test dan membandingkannya"
      ],
      "metadata": {
        "id": "BhiIKCEEvhid"
      }
    },
    {
      "cell_type": "code",
      "source": [
        "y_pred = predict(theta_optimum, X_test)"
      ],
      "metadata": {
        "id": "iXkTd8g5vbi3"
      },
      "execution_count": null,
      "outputs": []
    },
    {
      "cell_type": "code",
      "source": [
        "compare_y = pd.DataFrame({\"y_test\": y_test, \"y_pred\": y_pred})\n",
        "compare_y.head()"
      ],
      "metadata": {
        "colab": {
          "base_uri": "https://localhost:8080/",
          "height": 270
        },
        "id": "vlHgHfyq17rQ",
        "outputId": "e20ba141-0915-46ce-b523-778713b8b3e7"
      },
      "execution_count": null,
      "outputs": [
        {
          "output_type": "execute_result",
          "data": {
            "text/plain": [
              "   y_test  y_pred\n",
              "0       1       1\n",
              "1       0       0\n",
              "2       2       2\n",
              "3       1       1\n",
              "4       1       2"
            ],
            "text/html": [
              "\n",
              "  <div id=\"df-71bc66a9-80fe-439d-8aa1-13b788c8ecd0\">\n",
              "    <div class=\"colab-df-container\">\n",
              "      <div>\n",
              "<style scoped>\n",
              "    .dataframe tbody tr th:only-of-type {\n",
              "        vertical-align: middle;\n",
              "    }\n",
              "\n",
              "    .dataframe tbody tr th {\n",
              "        vertical-align: top;\n",
              "    }\n",
              "\n",
              "    .dataframe thead th {\n",
              "        text-align: right;\n",
              "    }\n",
              "</style>\n",
              "<table border=\"1\" class=\"dataframe\">\n",
              "  <thead>\n",
              "    <tr style=\"text-align: right;\">\n",
              "      <th></th>\n",
              "      <th>y_test</th>\n",
              "      <th>y_pred</th>\n",
              "    </tr>\n",
              "  </thead>\n",
              "  <tbody>\n",
              "    <tr>\n",
              "      <th>0</th>\n",
              "      <td>1</td>\n",
              "      <td>1</td>\n",
              "    </tr>\n",
              "    <tr>\n",
              "      <th>1</th>\n",
              "      <td>0</td>\n",
              "      <td>0</td>\n",
              "    </tr>\n",
              "    <tr>\n",
              "      <th>2</th>\n",
              "      <td>2</td>\n",
              "      <td>2</td>\n",
              "    </tr>\n",
              "    <tr>\n",
              "      <th>3</th>\n",
              "      <td>1</td>\n",
              "      <td>1</td>\n",
              "    </tr>\n",
              "    <tr>\n",
              "      <th>4</th>\n",
              "      <td>1</td>\n",
              "      <td>2</td>\n",
              "    </tr>\n",
              "  </tbody>\n",
              "</table>\n",
              "</div>\n",
              "      <button class=\"colab-df-convert\" onclick=\"convertToInteractive('df-71bc66a9-80fe-439d-8aa1-13b788c8ecd0')\"\n",
              "              title=\"Convert this dataframe to an interactive table.\"\n",
              "              style=\"display:none;\">\n",
              "        \n",
              "  <svg xmlns=\"http://www.w3.org/2000/svg\" height=\"24px\"viewBox=\"0 0 24 24\"\n",
              "       width=\"24px\">\n",
              "    <path d=\"M0 0h24v24H0V0z\" fill=\"none\"/>\n",
              "    <path d=\"M18.56 5.44l.94 2.06.94-2.06 2.06-.94-2.06-.94-.94-2.06-.94 2.06-2.06.94zm-11 1L8.5 8.5l.94-2.06 2.06-.94-2.06-.94L8.5 2.5l-.94 2.06-2.06.94zm10 10l.94 2.06.94-2.06 2.06-.94-2.06-.94-.94-2.06-.94 2.06-2.06.94z\"/><path d=\"M17.41 7.96l-1.37-1.37c-.4-.4-.92-.59-1.43-.59-.52 0-1.04.2-1.43.59L10.3 9.45l-7.72 7.72c-.78.78-.78 2.05 0 2.83L4 21.41c.39.39.9.59 1.41.59.51 0 1.02-.2 1.41-.59l7.78-7.78 2.81-2.81c.8-.78.8-2.07 0-2.86zM5.41 20L4 18.59l7.72-7.72 1.47 1.35L5.41 20z\"/>\n",
              "  </svg>\n",
              "      </button>\n",
              "      \n",
              "  <style>\n",
              "    .colab-df-container {\n",
              "      display:flex;\n",
              "      flex-wrap:wrap;\n",
              "      gap: 12px;\n",
              "    }\n",
              "\n",
              "    .colab-df-convert {\n",
              "      background-color: #E8F0FE;\n",
              "      border: none;\n",
              "      border-radius: 50%;\n",
              "      cursor: pointer;\n",
              "      display: none;\n",
              "      fill: #1967D2;\n",
              "      height: 32px;\n",
              "      padding: 0 0 0 0;\n",
              "      width: 32px;\n",
              "    }\n",
              "\n",
              "    .colab-df-convert:hover {\n",
              "      background-color: #E2EBFA;\n",
              "      box-shadow: 0px 1px 2px rgba(60, 64, 67, 0.3), 0px 1px 3px 1px rgba(60, 64, 67, 0.15);\n",
              "      fill: #174EA6;\n",
              "    }\n",
              "\n",
              "    [theme=dark] .colab-df-convert {\n",
              "      background-color: #3B4455;\n",
              "      fill: #D2E3FC;\n",
              "    }\n",
              "\n",
              "    [theme=dark] .colab-df-convert:hover {\n",
              "      background-color: #434B5C;\n",
              "      box-shadow: 0px 1px 3px 1px rgba(0, 0, 0, 0.15);\n",
              "      filter: drop-shadow(0px 1px 2px rgba(0, 0, 0, 0.3));\n",
              "      fill: #FFFFFF;\n",
              "    }\n",
              "  </style>\n",
              "\n",
              "      <script>\n",
              "        const buttonEl =\n",
              "          document.querySelector('#df-71bc66a9-80fe-439d-8aa1-13b788c8ecd0 button.colab-df-convert');\n",
              "        buttonEl.style.display =\n",
              "          google.colab.kernel.accessAllowed ? 'block' : 'none';\n",
              "\n",
              "        async function convertToInteractive(key) {\n",
              "          const element = document.querySelector('#df-71bc66a9-80fe-439d-8aa1-13b788c8ecd0');\n",
              "          const dataTable =\n",
              "            await google.colab.kernel.invokeFunction('convertToInteractive',\n",
              "                                                     [key], {});\n",
              "          if (!dataTable) return;\n",
              "\n",
              "          const docLinkHtml = 'Like what you see? Visit the ' +\n",
              "            '<a target=\"_blank\" href=https://colab.research.google.com/notebooks/data_table.ipynb>data table notebook</a>'\n",
              "            + ' to learn more about interactive tables.';\n",
              "          element.innerHTML = '';\n",
              "          dataTable['output_type'] = 'display_data';\n",
              "          await google.colab.output.renderOutput(dataTable, element);\n",
              "          const docLink = document.createElement('div');\n",
              "          docLink.innerHTML = docLinkHtml;\n",
              "          element.appendChild(docLink);\n",
              "        }\n",
              "      </script>\n",
              "    </div>\n",
              "  </div>\n",
              "  "
            ]
          },
          "metadata": {},
          "execution_count": 704
        }
      ]
    },
    {
      "cell_type": "markdown",
      "source": [
        "Membuat fungsi akurasi dan mengecek akurasi prediksi"
      ],
      "metadata": {
        "id": "6JESLuF0wVb8"
      }
    },
    {
      "cell_type": "code",
      "source": [
        "def accuracy(y_pred, y_test):\n",
        "  accuracy = np.mean(y_pred == y_test) * 100 # menghitung rata-rata dari banyaknya hasil prediksi yang sesuai\n",
        "  print(f\"Accuracy: {accuracy}%\")"
      ],
      "metadata": {
        "id": "WGbgTeo-wJdL"
      },
      "execution_count": null,
      "outputs": []
    },
    {
      "cell_type": "code",
      "source": [
        "accuracy(y_pred, y_test)"
      ],
      "metadata": {
        "colab": {
          "base_uri": "https://localhost:8080/"
        },
        "id": "FERAut-UwlKn",
        "outputId": "e44e6e37-4525-4441-aca8-61d22a9664fe"
      },
      "execution_count": null,
      "outputs": [
        {
          "output_type": "stream",
          "name": "stdout",
          "text": [
            "Accuracy: 93.33333333333333%\n"
          ]
        }
      ]
    },
    {
      "cell_type": "markdown",
      "source": [
        "## 9. Plot your cost function using matplotlib (cost function vs iteration) (score: 1)"
      ],
      "metadata": {
        "id": "bkAjjlUv1eSI"
      }
    },
    {
      "cell_type": "markdown",
      "source": [
        "Cost Function untuk masing-masing kelas"
      ],
      "metadata": {
        "id": "0b7UVpVK8u8-"
      }
    },
    {
      "cell_type": "code",
      "source": [
        "def plot_cost_function (cost, num_class):\n",
        "  plt.plot(cost)\n",
        "  plt.xlabel('Iteration')\n",
        "  plt.ylabel('Cost')\n",
        "  plt.legend([f\"Kelas {i}\" for i in range (0,num_class)])\n",
        "  plt.title('Cost Function untuk Masing-masing Kelas')\n",
        "  plt.show()"
      ],
      "metadata": {
        "id": "DT7oBBEqN_vV"
      },
      "execution_count": null,
      "outputs": []
    },
    {
      "cell_type": "code",
      "source": [
        "plot_cost_function(cost_total, len(np.unique(y_test)))"
      ],
      "metadata": {
        "colab": {
          "base_uri": "https://localhost:8080/",
          "height": 472
        },
        "id": "R8hL_Aq-v60t",
        "outputId": "c34e866a-3a8c-432b-fd15-84ab92c7239e"
      },
      "execution_count": null,
      "outputs": [
        {
          "output_type": "display_data",
          "data": {
            "text/plain": [
              "<Figure size 640x480 with 1 Axes>"
            ],
            "image/png": "[encoded data removed]"
          },
          "metadata": {}
        }
      ]
    },
    {
      "cell_type": "markdown",
      "source": [
        "Dapat dilihat bahwasanya nilai cost function menurun sehingga bisa mencapai titik minimum agar menghasilkan hipotesis yang sesuai. Bentuknya tidak logaritmik karena learning ratenya kecil dan iterasinya hanya sedikit, apabila learning rate dan jumlah iterasi dinaikkan harusnya akan membentuk fungsi logaritma, sebagai pembanding :"
      ],
      "metadata": {
        "id": "6YtNiomi84I4"
      }
    },
    {
      "cell_type": "code",
      "source": [
        "theta_optimum_comparation, cost_total_comparation= train(X_train, y_train, 1, 0.1, 1000, 1) # alpha/learning rate = 0.1 dan iterasi = 1000"
      ],
      "metadata": {
        "colab": {
          "base_uri": "https://localhost:8080/"
        },
        "id": "9bHpoKqivWBF",
        "outputId": "e13ffa57-eae2-4873-bd9d-59e078935ddf"
      },
      "execution_count": null,
      "outputs": [
        {
          "output_type": "stream",
          "name": "stdout",
          "text": [
            "Class 0: \n",
            "\n",
            "Histori cost: \n",
            "Cost untuk iterasi ke-0 : 0.6712905464787672\n",
            "Cost untuk iterasi ke-10 : 0.5083822098151441\n",
            "Cost untuk iterasi ke-20 : 0.41132873818515736\n",
            "Cost untuk iterasi ke-30 : 0.34911891612581025\n",
            "Cost untuk iterasi ke-40 : 0.30650290912876804\n",
            "Cost untuk iterasi ke-50 : 0.27573122273582973\n",
            "Cost untuk iterasi ke-60 : 0.25258607450214676\n",
            "Cost untuk iterasi ke-70 : 0.23461179576724894\n",
            "Cost untuk iterasi ke-80 : 0.22029307809653453\n",
            "Cost untuk iterasi ke-90 : 0.20864831227233982\n",
            "Cost untuk iterasi ke-100 : 0.19901532394138613\n",
            "Cost untuk iterasi ke-110 : 0.19093197703292833\n",
            "Cost untuk iterasi ke-120 : 0.18406632369434944\n",
            "Cost untuk iterasi ke-130 : 0.17817398630886896\n",
            "Cost untuk iterasi ke-140 : 0.17307119156703224\n",
            "Cost untuk iterasi ke-150 : 0.16861715955691128\n",
            "Cost untuk iterasi ke-160 : 0.16470227928148862\n",
            "Cost untuk iterasi ke-170 : 0.16123997308852786\n",
            "Cost untuk iterasi ke-180 : 0.1581609766237849\n",
            "Cost untuk iterasi ke-190 : 0.1554092386534945\n",
            "Cost untuk iterasi ke-200 : 0.15293893063249905\n",
            "Cost untuk iterasi ke-210 : 0.1507122312973079\n",
            "Cost untuk iterasi ke-220 : 0.14869766201466303\n",
            "Cost untuk iterasi ke-230 : 0.1468688197440856\n",
            "Cost untuk iterasi ke-240 : 0.14520340122070916\n",
            "Cost untuk iterasi ke-250 : 0.14368244326608978\n",
            "Cost untuk iterasi ke-260 : 0.1422897254537548\n",
            "Cost untuk iterasi ke-270 : 0.141011296105785\n",
            "Cost untuk iterasi ke-280 : 0.13983509294966392\n",
            "Cost untuk iterasi ke-290 : 0.13875063712930857\n",
            "Cost untuk iterasi ke-300 : 0.13774878456849307\n",
            "Cost untuk iterasi ke-310 : 0.13682152254951777\n",
            "Cost untuk iterasi ke-320 : 0.13596180221612858\n",
            "Cost untuk iterasi ke-330 : 0.1351633998269217\n",
            "Cost untuk iterasi ke-340 : 0.13442080117534566\n",
            "Cost untuk iterasi ke-350 : 0.1337291047968659\n",
            "Cost untuk iterasi ke-360 : 0.13308394050392555\n",
            "Cost untuk iterasi ke-370 : 0.13248140049767662\n",
            "Cost untuk iterasi ke-380 : 0.13191798085483114\n",
            "Cost untuk iterasi ke-390 : 0.1313905316170372\n",
            "Cost untuk iterasi ke-400 : 0.13089621404749618\n",
            "Cost untuk iterasi ke-410 : 0.13043246388637803\n",
            "Cost untuk iterasi ke-420 : 0.12999695964894184\n",
            "Cost untuk iterasi ke-430 : 0.12958759518021118\n",
            "Cost untuk iterasi ke-440 : 0.1292024558167869\n",
            "Cost untuk iterasi ke-450 : 0.12883979761695763\n",
            "Cost untuk iterasi ke-460 : 0.12849802921013198\n",
            "Cost untuk iterasi ke-470 : 0.12817569588998098\n",
            "Cost untuk iterasi ke-480 : 0.12787146563584956\n",
            "Cost untuk iterasi ke-490 : 0.12758411679654608\n",
            "Cost untuk iterasi ke-500 : 0.12731252721159647\n",
            "Cost untuk iterasi ke-510 : 0.12705566457906628\n",
            "Cost untuk iterasi ke-520 : 0.1268125779073993\n",
            "Cost untuk iterasi ke-530 : 0.12658238991242782\n",
            "Cost untuk iterasi ke-540 : 0.12636429024060017\n",
            "Cost untuk iterasi ke-550 : 0.12615752941622072\n",
            "Cost untuk iterasi ke-560 : 0.12596141342464376\n",
            "Cost untuk iterasi ke-570 : 0.12577529885534855\n",
            "Cost untuk iterasi ke-580 : 0.12559858853900746\n",
            "Cost untuk iterasi ke-590 : 0.1254307276213396\n",
            "Cost untuk iterasi ke-600 : 0.1252712000239574\n",
            "Cost untuk iterasi ke-610 : 0.12511952524877173\n",
            "Cost untuk iterasi ke-620 : 0.12497525548797747\n",
            "Cost untuk iterasi ke-630 : 0.12483797300634433\n",
            "Cost untuk iterasi ke-640 : 0.1247072877665957\n",
            "Cost untuk iterasi ke-650 : 0.12458283527216932\n",
            "Cost untuk iterasi ke-660 : 0.12446427460469911\n",
            "Cost untuk iterasi ke-670 : 0.12435128663620346\n",
            "Cost untuk iterasi ke-680 : 0.12424357239827066\n",
            "Cost untuk iterasi ke-690 : 0.12414085159254229\n",
            "Cost untuk iterasi ke-700 : 0.12404286122855633\n",
            "Cost untuk iterasi ke-710 : 0.1239493543765505\n",
            "Cost untuk iterasi ke-720 : 0.12386009902418027\n",
            "Cost untuk iterasi ke-730 : 0.12377487702729525\n",
            "Cost untuk iterasi ke-740 : 0.12369348314596545\n",
            "Cost untuk iterasi ke-750 : 0.12361572415787238\n",
            "Cost untuk iterasi ke-760 : 0.12354141804199975\n",
            "Cost untuk iterasi ke-770 : 0.12347039322627906\n",
            "Cost untuk iterasi ke-780 : 0.12340248789348948\n",
            "Cost untuk iterasi ke-790 : 0.12333754934027952\n",
            "Cost untuk iterasi ke-800 : 0.12327543338468577\n",
            "Cost untuk iterasi ke-810 : 0.12321600381797515\n",
            "Cost untuk iterasi ke-820 : 0.12315913189703945\n",
            "Cost untuk iterasi ke-830 : 0.12310469587393108\n",
            "Cost untuk iterasi ke-840 : 0.12305258055945084\n",
            "Cost untuk iterasi ke-850 : 0.1230026769179855\n",
            "Cost untuk iterasi ke-860 : 0.12295488169105301\n",
            "Cost untuk iterasi ke-870 : 0.12290909704724375\n",
            "Cost untuk iterasi ke-880 : 0.12286523025645607\n",
            "Cost untuk iterasi ke-890 : 0.12282319338651074\n",
            "Cost untuk iterasi ke-900 : 0.1227829030203993\n",
            "Cost untuk iterasi ke-910 : 0.12274427999257359\n",
            "Cost untuk iterasi ke-920 : 0.12270724914282083\n",
            "Cost untuk iterasi ke-930 : 0.12267173908639493\n",
            "Cost untuk iterasi ke-940 : 0.12263768199918558\n",
            "Cost untuk iterasi ke-950 : 0.12260501341681021\n",
            "Cost untuk iterasi ke-960 : 0.12257367204660657\n",
            "Cost untuk iterasi ke-970 : 0.12254359959158709\n",
            "Cost untuk iterasi ke-980 : 0.12251474058549325\n",
            "Cost untuk iterasi ke-990 : 0.12248704223815815\n",
            "\n",
            "Theta: [-1.92010547 -2.84706317  1.92158435]\n",
            "\n",
            "Class 1: \n",
            "\n",
            "Histori cost: \n",
            "Cost untuk iterasi ke-0 : 0.6851713255228021\n",
            "Cost untuk iterasi ke-10 : 0.6256902951669313\n",
            "Cost untuk iterasi ke-20 : 0.5905980052346238\n",
            "Cost untuk iterasi ke-30 : 0.568740836159567\n",
            "Cost untuk iterasi ke-40 : 0.55441645021848\n",
            "Cost untuk iterasi ke-50 : 0.5446329587310983\n",
            "Cost untuk iterasi ke-60 : 0.5377304105845971\n",
            "Cost untuk iterasi ke-70 : 0.5327343356107572\n",
            "Cost untuk iterasi ke-80 : 0.5290436780565707\n",
            "Cost untuk iterasi ke-90 : 0.5262719813021691\n",
            "Cost untuk iterasi ke-100 : 0.5241620314105463\n",
            "Cost untuk iterasi ke-110 : 0.5225376321397979\n",
            "Cost untuk iterasi ke-120 : 0.5212751346950638\n",
            "Cost untuk iterasi ke-130 : 0.5202859763419216\n",
            "Cost untuk iterasi ke-140 : 0.5195056112937919\n",
            "Cost untuk iterasi ke-150 : 0.5188862897629166\n",
            "Cost untuk iterasi ke-160 : 0.5183922282702264\n",
            "Cost untuk iterasi ke-170 : 0.5179963079502187\n",
            "Cost untuk iterasi ke-180 : 0.5176777735997222\n",
            "Cost untuk iterasi ke-190 : 0.517420602639437\n",
            "Cost untuk iterasi ke-200 : 0.5172123313432995\n",
            "Cost untuk iterasi ke-210 : 0.5170431986739603\n",
            "Cost untuk iterasi ke-220 : 0.5169055141984594\n",
            "Cost untuk iterasi ke-230 : 0.5167931863456604\n",
            "Cost untuk iterasi ke-240 : 0.516701366871466\n",
            "Cost untuk iterasi ke-250 : 0.5166261805274422\n",
            "Cost untuk iterasi ke-260 : 0.5165645178628656\n",
            "Cost untuk iterasi ke-270 : 0.5165138752591774\n",
            "Cost untuk iterasi ke-280 : 0.5164722306128235\n",
            "Cost untuk iterasi ke-290 : 0.5164379461409766\n",
            "Cost untuk iterasi ke-300 : 0.5164096919764176\n",
            "Cost untuk iterasi ke-310 : 0.5163863858051785\n",
            "Cost untuk iterasi ke-320 : 0.5163671449614569\n",
            "Cost untuk iterasi ke-330 : 0.5163512482510961\n",
            "Cost untuk iterasi ke-340 : 0.5163381054126782\n",
            "Cost untuk iterasi ke-350 : 0.5163272326037284\n",
            "Cost untuk iterasi ke-360 : 0.5163182326611482\n",
            "Cost untuk iterasi ke-370 : 0.516310779160191\n",
            "Cost untuk iterasi ke-380 : 0.516304603507074\n",
            "Cost untuk iterasi ke-390 : 0.5162994844627441\n",
            "Cost untuk iterasi ke-400 : 0.5162952396211663\n",
            "Cost untuk iterasi ke-410 : 0.5162917184635483\n",
            "Cost untuk iterasi ke-420 : 0.5162887966866634\n",
            "Cost untuk iterasi ke-430 : 0.5162863715637818\n",
            "Cost untuk iterasi ke-440 : 0.5162843581443962\n",
            "Cost untuk iterasi ke-450 : 0.5162826861367151\n",
            "Cost untuk iterasi ke-460 : 0.5162812973469874\n",
            "Cost untuk iterasi ke-470 : 0.516280143573741\n",
            "Cost untuk iterasi ke-480 : 0.5162791848742724\n",
            "Cost untuk iterasi ke-490 : 0.5162783881361889\n",
            "Cost untuk iterasi ke-500 : 0.5162777258992762\n",
            "Cost untuk iterasi ke-510 : 0.5162771753830349\n",
            "Cost untuk iterasi ke-520 : 0.5162767176833849\n",
            "Cost untuk iterasi ke-530 : 0.5162763371086623\n",
            "Cost untuk iterasi ke-540 : 0.5162760206304131\n",
            "Cost untuk iterasi ke-550 : 0.5162757574288852\n",
            "Cost untuk iterasi ke-560 : 0.5162755385166905\n",
            "Cost untuk iterasi ke-570 : 0.5162753564270518\n",
            "Cost untuk iterasi ke-580 : 0.5162752049554362\n",
            "Cost untuk iterasi ke-590 : 0.5162750789453509\n",
            "Cost untuk iterasi ke-600 : 0.5162749741106883\n",
            "Cost untuk iterasi ke-610 : 0.5162748868883377\n",
            "Cost untuk iterasi ke-620 : 0.5162748143158674\n",
            "Cost untuk iterasi ke-630 : 0.5162747539299892\n",
            "Cost untuk iterasi ke-640 : 0.5162747036822507\n",
            "Cost untuk iterasi ke-650 : 0.5162746618690176\n",
            "Cost untuk iterasi ke-660 : 0.5162746270733112\n",
            "Cost untuk iterasi ke-670 : 0.5162745981164854\n",
            "Cost untuk iterasi ke-680 : 0.516274574018072\n",
            "Cost untuk iterasi ke-690 : 0.516274553962406\n",
            "Cost untuk iterasi ke-700 : 0.5162745372708866\n",
            "Cost untuk iterasi ke-710 : 0.5162745233789139\n",
            "Cost untuk iterasi ke-720 : 0.5162745118167154\n",
            "Cost untuk iterasi ke-730 : 0.5162745021934025\n",
            "Cost untuk iterasi ke-740 : 0.5162744941837101\n",
            "Cost untuk iterasi ke-750 : 0.5162744875169708\n",
            "Cost untuk iterasi ke-760 : 0.5162744819679426\n",
            "Cost untuk iterasi ke-770 : 0.5162744773491788\n",
            "Cost untuk iterasi ke-780 : 0.5162744735046827\n",
            "Cost untuk iterasi ke-790 : 0.5162744703046269\n",
            "Cost untuk iterasi ke-800 : 0.5162744676409613\n",
            "Cost untuk iterasi ke-810 : 0.5162744654237578\n",
            "Cost untuk iterasi ke-820 : 0.5162744635781699\n",
            "Cost untuk iterasi ke-830 : 0.5162744620419016\n",
            "Cost untuk iterasi ke-840 : 0.5162744607631029\n",
            "Cost untuk iterasi ke-850 : 0.5162744596986172\n",
            "Cost untuk iterasi ke-860 : 0.5162744588125233\n",
            "Cost untuk iterasi ke-870 : 0.5162744580749216\n",
            "Cost untuk iterasi ke-880 : 0.5162744574609249\n",
            "Cost untuk iterasi ke-890 : 0.5162744569498181\n",
            "Cost untuk iterasi ke-900 : 0.5162744565243576\n",
            "Cost untuk iterasi ke-910 : 0.5162744561701905\n",
            "Cost untuk iterasi ke-920 : 0.5162744558753696\n",
            "Cost untuk iterasi ke-930 : 0.5162744556299496\n",
            "Cost untuk iterasi ke-940 : 0.5162744554256523\n",
            "Cost untuk iterasi ke-950 : 0.5162744552555868\n",
            "Cost untuk iterasi ke-960 : 0.5162744551140172\n",
            "Cost untuk iterasi ke-970 : 0.516274454996168\n",
            "Cost untuk iterasi ke-980 : 0.516274454898065\n",
            "Cost untuk iterasi ke-990 : 0.5162744548163994\n",
            "\n",
            "Theta: [-0.88128251  0.17476981 -1.24237742]\n",
            "\n",
            "Class 2: \n",
            "\n",
            "Histori cost: \n",
            "Cost untuk iterasi ke-0 : 0.6811698932406117\n",
            "Cost untuk iterasi ke-10 : 0.5914862424313642\n",
            "Cost untuk iterasi ke-20 : 0.5382035913086233\n",
            "Cost untuk iterasi ke-30 : 0.5047949198564515\n",
            "Cost untuk iterasi ke-40 : 0.4827171859460548\n",
            "Cost untuk iterasi ke-50 : 0.467469735263327\n",
            "Cost untuk iterasi ke-60 : 0.45655819255617847\n",
            "Cost untuk iterasi ke-70 : 0.4485231102456751\n",
            "Cost untuk iterasi ke-80 : 0.44246748437091177\n",
            "Cost untuk iterasi ke-90 : 0.43781604497520904\n",
            "Cost untuk iterasi ke-100 : 0.43418625471048816\n",
            "Cost untuk iterasi ke-110 : 0.4313157865915202\n",
            "Cost untuk iterasi ke-120 : 0.4290199605384578\n",
            "Cost untuk iterasi ke-130 : 0.42716579443594177\n",
            "Cost untuk iterasi ke-140 : 0.42565564636743874\n",
            "Cost untuk iterasi ke-150 : 0.42441659523498243\n",
            "Cost untuk iterasi ke-160 : 0.42339336558219465\n",
            "Cost untuk iterasi ke-170 : 0.4225435042520888\n",
            "Cost untuk iterasi ke-180 : 0.4218340243391858\n",
            "Cost untuk iterasi ke-190 : 0.42123902707897865\n",
            "Cost untuk iterasi ke-200 : 0.42073798889071207\n",
            "Cost untuk iterasi ke-210 : 0.42031450919078434\n",
            "Cost untuk iterasi ke-220 : 0.4199553827305631\n",
            "Cost untuk iterasi ke-230 : 0.4196499039683278\n",
            "Cost untuk iterasi ke-240 : 0.41938933963941566\n",
            "Cost untuk iterasi ke-250 : 0.4191665247924744\n",
            "Cost untuk iterasi ke-260 : 0.4189755505072444\n",
            "Cost untuk iterasi ke-270 : 0.41881152041810416\n",
            "Cost untuk iterasi ke-280 : 0.4186703593836524\n",
            "Cost untuk iterasi ke-290 : 0.4185486620361413\n",
            "Cost untuk iterasi ke-300 : 0.41844357208735805\n",
            "Cost untuk iterasi ke-310 : 0.4183526855408115\n",
            "Cost untuk iterasi ke-320 : 0.41827397262151567\n",
            "Cost untuk iterasi ke-330 : 0.418205714460758\n",
            "Cost untuk iterasi ke-340 : 0.4181464514862873\n",
            "Cost untuk iterasi ke-350 : 0.4180949411540794\n",
            "Cost untuk iterasi ke-360 : 0.41805012317695445\n",
            "Cost untuk iterasi ke-370 : 0.4180110908012525\n",
            "Cost untuk iterasi ke-380 : 0.41797706698690834\n",
            "Cost untuk iterasi ke-390 : 0.4179473845814313\n",
            "Cost untuk iterasi ke-400 : 0.4179214697612825\n",
            "Cost untuk iterasi ke-410 : 0.41789882815738627\n",
            "Cost untuk iterasi ke-420 : 0.4178790331942624\n",
            "Cost untuk iterasi ke-430 : 0.4178617162615079\n",
            "Cost untuk iterasi ke-440 : 0.4178465584073334\n",
            "Cost untuk iterasi ke-450 : 0.41783328330060077\n",
            "Cost untuk iterasi ke-460 : 0.41782165125336107\n",
            "Cost untuk iterasi ke-470 : 0.4178114541326344\n",
            "Cost untuk iterasi ke-480 : 0.41780251101993077\n",
            "Cost untuk iterasi ke-490 : 0.41779466450120284\n",
            "Cost untuk iterasi ke-500 : 0.4177877774896713\n",
            "Cost untuk iterasi ke-510 : 0.41778173050013934\n",
            "Cost untuk iterasi ke-520 : 0.41777641930671294\n",
            "Cost untuk iterasi ke-530 : 0.4177717529268086\n",
            "Cost untuk iterasi ke-540 : 0.41776765188340914\n",
            "Cost untuk iterasi ke-550 : 0.4177640467050567\n",
            "Cost untuk iterasi ke-560 : 0.4177608766293454\n",
            "Cost untuk iterasi ke-570 : 0.41775808848090656\n",
            "Cost untuk iterasi ke-580 : 0.41775563569925933\n",
            "Cost untuk iterasi ke-590 : 0.41775347749558067\n",
            "Cost untuk iterasi ke-600 : 0.41775157812053043\n",
            "Cost untuk iterasi ke-610 : 0.41774990622788644\n",
            "Cost untuk iterasi ke-620 : 0.4177484343209364\n",
            "Cost untuk iterasi ke-630 : 0.4177471382704484\n",
            "Cost untuk iterasi ke-640 : 0.4177459968946198\n",
            "Cost untuk iterasi ke-650 : 0.41774499159275424\n",
            "Cost untuk iterasi ke-660 : 0.4177441060255619\n",
            "Cost untuk iterasi ke-670 : 0.4177433258359596\n",
            "Cost untuk iterasi ke-680 : 0.41774263840508363\n",
            "Cost untuk iterasi ke-690 : 0.41774203263894394\n",
            "Cost untuk iterasi ke-700 : 0.41774149878176864\n",
            "Cost untuk iterasi ke-710 : 0.4177410282526098\n",
            "Cost untuk iterasi ke-720 : 0.4177406135022406\n",
            "Cost untuk iterasi ke-730 : 0.41774024788776704\n",
            "Cost untuk iterasi ke-740 : 0.41773992556270845\n",
            "Cost untuk iterasi ke-750 : 0.417739641380602\n",
            "Cost untuk iterasi ke-760 : 0.41773939081043243\n",
            "Cost untuk iterasi ke-770 : 0.4177391698624092\n",
            "Cost untuk iterasi ke-780 : 0.41773897502280266\n",
            "Cost untuk iterasi ke-790 : 0.417738803196715\n",
            "Cost untuk iterasi ke-800 : 0.4177386516578043\n",
            "Cost untuk iterasi ke-810 : 0.41773851800410444\n",
            "Cost untuk iterasi ke-820 : 0.41773840011919106\n",
            "Cost untuk iterasi ke-830 : 0.41773829613803803\n",
            "Cost untuk iterasi ke-840 : 0.41773820441699133\n",
            "Cost untuk iterasi ke-850 : 0.4177381235073566\n",
            "Cost untuk iterasi ke-860 : 0.41773805213216225\n",
            "Cost untuk iterasi ke-870 : 0.4177379891657111\n",
            "Cost untuk iterasi ke-880 : 0.4177379336155831\n",
            "Cost untuk iterasi ke-890 : 0.417737884606792\n",
            "Cost untuk iterasi ke-900 : 0.417737841367837\n",
            "Cost untuk iterasi ke-910 : 0.41773780321841986\n",
            "Cost untuk iterasi ke-920 : 0.41773776955862707\n",
            "Cost untuk iterasi ke-930 : 0.41773773985940216\n",
            "Cost untuk iterasi ke-940 : 0.41773771365415135\n",
            "Cost untuk iterasi ke-950 : 0.4177376905313492\n",
            "Cost untuk iterasi ke-960 : 0.4177376701280216\n",
            "Cost untuk iterasi ke-970 : 0.41773765212400427\n",
            "Cost untuk iterasi ke-980 : 0.41773763623688226\n",
            "Cost untuk iterasi ke-990 : 0.4177376222175285\n",
            "\n",
            "Theta: [-1.08440941  1.72834471 -0.34634745]\n",
            "\n"
          ]
        }
      ]
    },
    {
      "cell_type": "code",
      "source": [
        "plot_cost_function(cost_total_comparation, len(np.unique(y_test)))"
      ],
      "metadata": {
        "colab": {
          "base_uri": "https://localhost:8080/",
          "height": 472
        },
        "id": "NIp7Nf_Cvlt-",
        "outputId": "f0ff8d6c-994b-44f1-ee25-00ba586a0fb1"
      },
      "execution_count": null,
      "outputs": [
        {
          "output_type": "display_data",
          "data": {
            "text/plain": [
              "<Figure size 640x480 with 1 Axes>"
            ],
            "image/png": "[encoded data removed]"
          },
          "metadata": {}
        }
      ]
    },
    {
      "cell_type": "markdown",
      "source": [
        "## 10. Compare your Logistic Regression model with and without regularisation, you can compare by the values of thetha in both of the model (in plot or in table) (score: 2)"
      ],
      "metadata": {
        "id": "2p9_G8WF9LpF"
      }
    },
    {
      "cell_type": "markdown",
      "source": [
        "Semisal kita ambil nilai lambda = 100, alpha = 0.001, max_iter = 100"
      ],
      "metadata": {
        "id": "43gYPo4395L1"
      }
    },
    {
      "cell_type": "code",
      "source": [
        "theta_no_reg, cost_no_reg = train(X_train, y_train, 100, 0.001, 100, reg = 0)\n",
        "print (theta_no_reg)"
      ],
      "metadata": {
        "colab": {
          "base_uri": "https://localhost:8080/"
        },
        "id": "y0jSj47L9KrO",
        "outputId": "9e281c58-7fe1-48af-b37d-4195e6a01386"
      },
      "execution_count": null,
      "outputs": [
        {
          "output_type": "stream",
          "name": "stdout",
          "text": [
            "Class 0: \n",
            "\n",
            "Histori cost: \n",
            "Cost untuk iterasi ke-0 : 0.6929255429143426\n",
            "Cost untuk iterasi ke-10 : 0.6907158004845526\n",
            "Cost untuk iterasi ke-20 : 0.6885180735601402\n",
            "Cost untuk iterasi ke-30 : 0.6863322960010795\n",
            "Cost untuk iterasi ke-40 : 0.6841584017870839\n",
            "Cost untuk iterasi ke-50 : 0.6819963250230681\n",
            "Cost untuk iterasi ke-60 : 0.6798459999445006\n",
            "Cost untuk iterasi ke-70 : 0.6777073609226528\n",
            "Cost untuk iterasi ke-80 : 0.6755803424697402\n",
            "Cost untuk iterasi ke-90 : 0.6734648792439588\n",
            "\n",
            "Theta: [-0.01648206 -0.03197062  0.02939422]\n",
            "\n",
            "Class 1: \n",
            "\n",
            "Histori cost: \n",
            "Cost untuk iterasi ke-0 : 0.6930663086447124\n",
            "Cost untuk iterasi ke-10 : 0.6922600076032438\n",
            "Cost untuk iterasi ke-20 : 0.691458086226977\n",
            "Cost untuk iterasi ke-30 : 0.690660520427673\n",
            "Cost untuk iterasi ke-40 : 0.6898672861885236\n",
            "Cost untuk iterasi ke-50 : 0.6890783595653007\n",
            "Cost untuk iterasi ke-60 : 0.688293716687478\n",
            "Cost untuk iterasi ke-70 : 0.6875133337593238\n",
            "Cost untuk iterasi ke-80 : 0.6867371870609685\n",
            "Cost untuk iterasi ke-90 : 0.685965252949444\n",
            "\n",
            "Theta: [-0.01563359  0.00512146 -0.02273166]\n",
            "\n",
            "Class 2: \n",
            "\n",
            "Histori cost: \n",
            "Cost untuk iterasi ke-0 : 0.693025760666413\n",
            "Cost untuk iterasi ke-10 : 0.6918151313662638\n",
            "Cost untuk iterasi ke-20 : 0.690610967783316\n",
            "Cost untuk iterasi ke-30 : 0.6894132349545593\n",
            "Cost untuk iterasi ke-40 : 0.6882218980187352\n",
            "Cost untuk iterasi ke-50 : 0.6870369222179655\n",
            "Cost untuk iterasi ke-60 : 0.6858582728993415\n",
            "Cost untuk iterasi ke-70 : 0.6846859155164727\n",
            "Cost untuk iterasi ke-80 : 0.683519815630997\n",
            "Cost untuk iterasi ke-90 : 0.6823599389140513\n",
            "\n",
            "Theta: [-0.01726961  0.02886808 -0.00714601]\n",
            "\n",
            "[[-0.01648206 -0.01563359 -0.01726961]\n",
            " [-0.03197062  0.00512146  0.02886808]\n",
            " [ 0.02939422 -0.02273166 -0.00714601]]\n"
          ]
        }
      ]
    },
    {
      "cell_type": "code",
      "source": [
        "theta_reg, cost_reg = train(X_train, y_train, 100, 0.001, 100, reg = 1)\n",
        "print (theta_reg)"
      ],
      "metadata": {
        "colab": {
          "base_uri": "https://localhost:8080/"
        },
        "id": "HWVIgnwu-c_L",
        "outputId": "0d90ebab-5b02-4155-a8cd-73d49fa8cf74"
      },
      "execution_count": null,
      "outputs": [
        {
          "output_type": "stream",
          "name": "stdout",
          "text": [
            "Class 0: \n",
            "\n",
            "Histori cost: \n",
            "Cost untuk iterasi ke-0 : 0.6929256237018762\n",
            "Cost untuk iterasi ke-10 : 0.6907342901774496\n",
            "Cost untuk iterasi ke-20 : 0.6885863552197993\n",
            "Cost untuk iterasi ke-30 : 0.6864808845983427\n",
            "Cost untuk iterasi ke-40 : 0.6844169643896273\n",
            "Cost untuk iterasi ke-50 : 0.6823937005486149\n",
            "Cost untuk iterasi ke-60 : 0.6804102184881846\n",
            "Cost untuk iterasi ke-70 : 0.6784656626667406\n",
            "Cost untuk iterasi ke-80 : 0.676559196183811\n",
            "Cost untuk iterasi ke-90 : 0.6746900003835248\n",
            "\n",
            "Theta: [-0.01648153 -0.0306926   0.02821952]\n",
            "\n",
            "Class 1: \n",
            "\n",
            "Histori cost: \n",
            "Cost untuk iterasi ke-0 : 0.6930663319003305\n",
            "Cost untuk iterasi ke-10 : 0.6922653300858473\n",
            "Cost untuk iterasi ke-20 : 0.6914777419712307\n",
            "Cost untuk iterasi ke-30 : 0.6907032936163663\n",
            "Cost untuk iterasi ke-40 : 0.6899417169425882\n",
            "Cost untuk iterasi ke-50 : 0.6891927496085914\n",
            "Cost untuk iterasi ke-60 : 0.6884561348888318\n",
            "Cost untuk iterasi ke-70 : 0.6877316215543676\n",
            "Cost untuk iterasi ke-80 : 0.6870189637560986\n",
            "Cost untuk iterasi ke-90 : 0.6863179209103663\n",
            "\n",
            "Theta: [-0.01563373  0.00491691 -0.02182284]\n",
            "\n",
            "Class 2: \n",
            "\n",
            "Histori cost: \n",
            "Cost untuk iterasi ke-0 : 0.693025798504392\n",
            "Cost untuk iterasi ke-10 : 0.6918237926364801\n",
            "Cost untuk iterasi ke-20 : 0.690642958495548\n",
            "Cost untuk iterasi ke-30 : 0.6894828611891491\n",
            "Cost untuk iterasi ke-40 : 0.6883430750612652\n",
            "Cost untuk iterasi ke-50 : 0.6872231834983613\n",
            "Cost untuk iterasi ke-60 : 0.6861227787393123\n",
            "Cost untuk iterasi ke-70 : 0.6850414616891314\n",
            "Cost untuk iterasi ke-80 : 0.683978841736435\n",
            "Cost untuk iterasi ke-90 : 0.682934536574577\n",
            "\n",
            "Theta: [-0.01727002  0.02771353 -0.00686076]\n",
            "\n",
            "[[-0.01648153 -0.01563373 -0.01727002]\n",
            " [-0.0306926   0.00491691  0.02771353]\n",
            " [ 0.02821952 -0.02182284 -0.00686076]]\n"
          ]
        }
      ]
    },
    {
      "cell_type": "markdown",
      "source": [
        "### Perbandingan pada kelas 0"
      ],
      "metadata": {
        "id": "yXDU8iH_AZO-"
      }
    },
    {
      "cell_type": "code",
      "source": [
        "compare_class_0 = pd.DataFrame({\"no_regularization\": theta_no_reg[:, 0], \"regularization\": theta_reg[:, 0]}, index = ['Theta 0', 'Theta 1', 'Theta 2'])"
      ],
      "metadata": {
        "id": "P7YRflev_2yD"
      },
      "execution_count": null,
      "outputs": []
    },
    {
      "cell_type": "code",
      "source": [
        "compare_class_0"
      ],
      "metadata": {
        "colab": {
          "base_uri": "https://localhost:8080/",
          "height": 143
        },
        "id": "UpwbGd_dBMPh",
        "outputId": "615652e0-2310-4258-a7ba-49953efc9d9a"
      },
      "execution_count": null,
      "outputs": [
        {
          "output_type": "execute_result",
          "data": {
            "text/plain": [
              "         no_regularization  regularization\n",
              "Theta 0          -0.016482       -0.016482\n",
              "Theta 1          -0.031971       -0.030693\n",
              "Theta 2           0.029394        0.028220"
            ],
            "text/html": [
              "\n",
              "  <div id=\"df-87644a86-8843-4f73-80c4-eccc0eb7e66a\">\n",
              "    <div class=\"colab-df-container\">\n",
              "      <div>\n",
              "<style scoped>\n",
              "    .dataframe tbody tr th:only-of-type {\n",
              "        vertical-align: middle;\n",
              "    }\n",
              "\n",
              "    .dataframe tbody tr th {\n",
              "        vertical-align: top;\n",
              "    }\n",
              "\n",
              "    .dataframe thead th {\n",
              "        text-align: right;\n",
              "    }\n",
              "</style>\n",
              "<table border=\"1\" class=\"dataframe\">\n",
              "  <thead>\n",
              "    <tr style=\"text-align: right;\">\n",
              "      <th></th>\n",
              "      <th>no_regularization</th>\n",
              "      <th>regularization</th>\n",
              "    </tr>\n",
              "  </thead>\n",
              "  <tbody>\n",
              "    <tr>\n",
              "      <th>Theta 0</th>\n",
              "      <td>-0.016482</td>\n",
              "      <td>-0.016482</td>\n",
              "    </tr>\n",
              "    <tr>\n",
              "      <th>Theta 1</th>\n",
              "      <td>-0.031971</td>\n",
              "      <td>-0.030693</td>\n",
              "    </tr>\n",
              "    <tr>\n",
              "      <th>Theta 2</th>\n",
              "      <td>0.029394</td>\n",
              "      <td>0.028220</td>\n",
              "    </tr>\n",
              "  </tbody>\n",
              "</table>\n",
              "</div>\n",
              "      <button class=\"colab-df-convert\" onclick=\"convertToInteractive('df-87644a86-8843-4f73-80c4-eccc0eb7e66a')\"\n",
              "              title=\"Convert this dataframe to an interactive table.\"\n",
              "              style=\"display:none;\">\n",
              "        \n",
              "  <svg xmlns=\"http://www.w3.org/2000/svg\" height=\"24px\"viewBox=\"0 0 24 24\"\n",
              "       width=\"24px\">\n",
              "    <path d=\"M0 0h24v24H0V0z\" fill=\"none\"/>\n",
              "    <path d=\"M18.56 5.44l.94 2.06.94-2.06 2.06-.94-2.06-.94-.94-2.06-.94 2.06-2.06.94zm-11 1L8.5 8.5l.94-2.06 2.06-.94-2.06-.94L8.5 2.5l-.94 2.06-2.06.94zm10 10l.94 2.06.94-2.06 2.06-.94-2.06-.94-.94-2.06-.94 2.06-2.06.94z\"/><path d=\"M17.41 7.96l-1.37-1.37c-.4-.4-.92-.59-1.43-.59-.52 0-1.04.2-1.43.59L10.3 9.45l-7.72 7.72c-.78.78-.78 2.05 0 2.83L4 21.41c.39.39.9.59 1.41.59.51 0 1.02-.2 1.41-.59l7.78-7.78 2.81-2.81c.8-.78.8-2.07 0-2.86zM5.41 20L4 18.59l7.72-7.72 1.47 1.35L5.41 20z\"/>\n",
              "  </svg>\n",
              "      </button>\n",
              "      \n",
              "  <style>\n",
              "    .colab-df-container {\n",
              "      display:flex;\n",
              "      flex-wrap:wrap;\n",
              "      gap: 12px;\n",
              "    }\n",
              "\n",
              "    .colab-df-convert {\n",
              "      background-color: #E8F0FE;\n",
              "      border: none;\n",
              "      border-radius: 50%;\n",
              "      cursor: pointer;\n",
              "      display: none;\n",
              "      fill: #1967D2;\n",
              "      height: 32px;\n",
              "      padding: 0 0 0 0;\n",
              "      width: 32px;\n",
              "    }\n",
              "\n",
              "    .colab-df-convert:hover {\n",
              "      background-color: #E2EBFA;\n",
              "      box-shadow: 0px 1px 2px rgba(60, 64, 67, 0.3), 0px 1px 3px 1px rgba(60, 64, 67, 0.15);\n",
              "      fill: #174EA6;\n",
              "    }\n",
              "\n",
              "    [theme=dark] .colab-df-convert {\n",
              "      background-color: #3B4455;\n",
              "      fill: #D2E3FC;\n",
              "    }\n",
              "\n",
              "    [theme=dark] .colab-df-convert:hover {\n",
              "      background-color: #434B5C;\n",
              "      box-shadow: 0px 1px 3px 1px rgba(0, 0, 0, 0.15);\n",
              "      filter: drop-shadow(0px 1px 2px rgba(0, 0, 0, 0.3));\n",
              "      fill: #FFFFFF;\n",
              "    }\n",
              "  </style>\n",
              "\n",
              "      <script>\n",
              "        const buttonEl =\n",
              "          document.querySelector('#df-87644a86-8843-4f73-80c4-eccc0eb7e66a button.colab-df-convert');\n",
              "        buttonEl.style.display =\n",
              "          google.colab.kernel.accessAllowed ? 'block' : 'none';\n",
              "\n",
              "        async function convertToInteractive(key) {\n",
              "          const element = document.querySelector('#df-87644a86-8843-4f73-80c4-eccc0eb7e66a');\n",
              "          const dataTable =\n",
              "            await google.colab.kernel.invokeFunction('convertToInteractive',\n",
              "                                                     [key], {});\n",
              "          if (!dataTable) return;\n",
              "\n",
              "          const docLinkHtml = 'Like what you see? Visit the ' +\n",
              "            '<a target=\"_blank\" href=https://colab.research.google.com/notebooks/data_table.ipynb>data table notebook</a>'\n",
              "            + ' to learn more about interactive tables.';\n",
              "          element.innerHTML = '';\n",
              "          dataTable['output_type'] = 'display_data';\n",
              "          await google.colab.output.renderOutput(dataTable, element);\n",
              "          const docLink = document.createElement('div');\n",
              "          docLink.innerHTML = docLinkHtml;\n",
              "          element.appendChild(docLink);\n",
              "        }\n",
              "      </script>\n",
              "    </div>\n",
              "  </div>\n",
              "  "
            ]
          },
          "metadata": {},
          "execution_count": 714
        }
      ]
    },
    {
      "cell_type": "markdown",
      "source": [
        "### Perbandingan pada kelas 1"
      ],
      "metadata": {
        "id": "xVwS-E8VBS8t"
      }
    },
    {
      "cell_type": "code",
      "source": [
        "compare_class_1 = pd.DataFrame({\"no_regularization\": theta_no_reg[:, 1], \"regularization\": theta_reg[:, 1]}, index = ['Theta 0', 'Theta 1', 'Theta 2'])"
      ],
      "metadata": {
        "id": "8KwyPp0wBUum"
      },
      "execution_count": null,
      "outputs": []
    },
    {
      "cell_type": "code",
      "source": [
        "compare_class_1"
      ],
      "metadata": {
        "colab": {
          "base_uri": "https://localhost:8080/",
          "height": 143
        },
        "id": "ciXRH1pOBXye",
        "outputId": "fbe951f8-25eb-40ba-d5aa-5217fbeb2019"
      },
      "execution_count": null,
      "outputs": [
        {
          "output_type": "execute_result",
          "data": {
            "text/plain": [
              "         no_regularization  regularization\n",
              "Theta 0          -0.015634       -0.015634\n",
              "Theta 1           0.005121        0.004917\n",
              "Theta 2          -0.022732       -0.021823"
            ],
            "text/html": [
              "\n",
              "  <div id=\"df-7eee8c7a-d61c-4210-8d14-1c7e978b268b\">\n",
              "    <div class=\"colab-df-container\">\n",
              "      <div>\n",
              "<style scoped>\n",
              "    .dataframe tbody tr th:only-of-type {\n",
              "        vertical-align: middle;\n",
              "    }\n",
              "\n",
              "    .dataframe tbody tr th {\n",
              "        vertical-align: top;\n",
              "    }\n",
              "\n",
              "    .dataframe thead th {\n",
              "        text-align: right;\n",
              "    }\n",
              "</style>\n",
              "<table border=\"1\" class=\"dataframe\">\n",
              "  <thead>\n",
              "    <tr style=\"text-align: right;\">\n",
              "      <th></th>\n",
              "      <th>no_regularization</th>\n",
              "      <th>regularization</th>\n",
              "    </tr>\n",
              "  </thead>\n",
              "  <tbody>\n",
              "    <tr>\n",
              "      <th>Theta 0</th>\n",
              "      <td>-0.015634</td>\n",
              "      <td>-0.015634</td>\n",
              "    </tr>\n",
              "    <tr>\n",
              "      <th>Theta 1</th>\n",
              "      <td>0.005121</td>\n",
              "      <td>0.004917</td>\n",
              "    </tr>\n",
              "    <tr>\n",
              "      <th>Theta 2</th>\n",
              "      <td>-0.022732</td>\n",
              "      <td>-0.021823</td>\n",
              "    </tr>\n",
              "  </tbody>\n",
              "</table>\n",
              "</div>\n",
              "      <button class=\"colab-df-convert\" onclick=\"convertToInteractive('df-7eee8c7a-d61c-4210-8d14-1c7e978b268b')\"\n",
              "              title=\"Convert this dataframe to an interactive table.\"\n",
              "              style=\"display:none;\">\n",
              "        \n",
              "  <svg xmlns=\"http://www.w3.org/2000/svg\" height=\"24px\"viewBox=\"0 0 24 24\"\n",
              "       width=\"24px\">\n",
              "    <path d=\"M0 0h24v24H0V0z\" fill=\"none\"/>\n",
              "    <path d=\"M18.56 5.44l.94 2.06.94-2.06 2.06-.94-2.06-.94-.94-2.06-.94 2.06-2.06.94zm-11 1L8.5 8.5l.94-2.06 2.06-.94-2.06-.94L8.5 2.5l-.94 2.06-2.06.94zm10 10l.94 2.06.94-2.06 2.06-.94-2.06-.94-.94-2.06-.94 2.06-2.06.94z\"/><path d=\"M17.41 7.96l-1.37-1.37c-.4-.4-.92-.59-1.43-.59-.52 0-1.04.2-1.43.59L10.3 9.45l-7.72 7.72c-.78.78-.78 2.05 0 2.83L4 21.41c.39.39.9.59 1.41.59.51 0 1.02-.2 1.41-.59l7.78-7.78 2.81-2.81c.8-.78.8-2.07 0-2.86zM5.41 20L4 18.59l7.72-7.72 1.47 1.35L5.41 20z\"/>\n",
              "  </svg>\n",
              "      </button>\n",
              "      \n",
              "  <style>\n",
              "    .colab-df-container {\n",
              "      display:flex;\n",
              "      flex-wrap:wrap;\n",
              "      gap: 12px;\n",
              "    }\n",
              "\n",
              "    .colab-df-convert {\n",
              "      background-color: #E8F0FE;\n",
              "      border: none;\n",
              "      border-radius: 50%;\n",
              "      cursor: pointer;\n",
              "      display: none;\n",
              "      fill: #1967D2;\n",
              "      height: 32px;\n",
              "      padding: 0 0 0 0;\n",
              "      width: 32px;\n",
              "    }\n",
              "\n",
              "    .colab-df-convert:hover {\n",
              "      background-color: #E2EBFA;\n",
              "      box-shadow: 0px 1px 2px rgba(60, 64, 67, 0.3), 0px 1px 3px 1px rgba(60, 64, 67, 0.15);\n",
              "      fill: #174EA6;\n",
              "    }\n",
              "\n",
              "    [theme=dark] .colab-df-convert {\n",
              "      background-color: #3B4455;\n",
              "      fill: #D2E3FC;\n",
              "    }\n",
              "\n",
              "    [theme=dark] .colab-df-convert:hover {\n",
              "      background-color: #434B5C;\n",
              "      box-shadow: 0px 1px 3px 1px rgba(0, 0, 0, 0.15);\n",
              "      filter: drop-shadow(0px 1px 2px rgba(0, 0, 0, 0.3));\n",
              "      fill: #FFFFFF;\n",
              "    }\n",
              "  </style>\n",
              "\n",
              "      <script>\n",
              "        const buttonEl =\n",
              "          document.querySelector('#df-7eee8c7a-d61c-4210-8d14-1c7e978b268b button.colab-df-convert');\n",
              "        buttonEl.style.display =\n",
              "          google.colab.kernel.accessAllowed ? 'block' : 'none';\n",
              "\n",
              "        async function convertToInteractive(key) {\n",
              "          const element = document.querySelector('#df-7eee8c7a-d61c-4210-8d14-1c7e978b268b');\n",
              "          const dataTable =\n",
              "            await google.colab.kernel.invokeFunction('convertToInteractive',\n",
              "                                                     [key], {});\n",
              "          if (!dataTable) return;\n",
              "\n",
              "          const docLinkHtml = 'Like what you see? Visit the ' +\n",
              "            '<a target=\"_blank\" href=https://colab.research.google.com/notebooks/data_table.ipynb>data table notebook</a>'\n",
              "            + ' to learn more about interactive tables.';\n",
              "          element.innerHTML = '';\n",
              "          dataTable['output_type'] = 'display_data';\n",
              "          await google.colab.output.renderOutput(dataTable, element);\n",
              "          const docLink = document.createElement('div');\n",
              "          docLink.innerHTML = docLinkHtml;\n",
              "          element.appendChild(docLink);\n",
              "        }\n",
              "      </script>\n",
              "    </div>\n",
              "  </div>\n",
              "  "
            ]
          },
          "metadata": {},
          "execution_count": 716
        }
      ]
    },
    {
      "cell_type": "markdown",
      "source": [
        "### Perbandingan pada kelas 2"
      ],
      "metadata": {
        "id": "UfnER5K8BfYj"
      }
    },
    {
      "cell_type": "code",
      "source": [
        "compare_class_2 = pd.DataFrame({\"no_regularization\": theta_no_reg[:, 2], \"regularization\": theta_reg[:, 2]}, index = ['Theta 0', 'Theta 1', 'Theta 2'])"
      ],
      "metadata": {
        "id": "t5KZ82LWBicG"
      },
      "execution_count": null,
      "outputs": []
    },
    {
      "cell_type": "code",
      "source": [
        "compare_class_2"
      ],
      "metadata": {
        "colab": {
          "base_uri": "https://localhost:8080/",
          "height": 143
        },
        "id": "A00glcINBl2o",
        "outputId": "e32aebe0-afb4-4d8a-e940-0813cef737af"
      },
      "execution_count": null,
      "outputs": [
        {
          "output_type": "execute_result",
          "data": {
            "text/plain": [
              "         no_regularization  regularization\n",
              "Theta 0          -0.017270       -0.017270\n",
              "Theta 1           0.028868        0.027714\n",
              "Theta 2          -0.007146       -0.006861"
            ],
            "text/html": [
              "\n",
              "  <div id=\"df-f58c6c35-3d84-4048-8a4a-76189c635a9c\">\n",
              "    <div class=\"colab-df-container\">\n",
              "      <div>\n",
              "<style scoped>\n",
              "    .dataframe tbody tr th:only-of-type {\n",
              "        vertical-align: middle;\n",
              "    }\n",
              "\n",
              "    .dataframe tbody tr th {\n",
              "        vertical-align: top;\n",
              "    }\n",
              "\n",
              "    .dataframe thead th {\n",
              "        text-align: right;\n",
              "    }\n",
              "</style>\n",
              "<table border=\"1\" class=\"dataframe\">\n",
              "  <thead>\n",
              "    <tr style=\"text-align: right;\">\n",
              "      <th></th>\n",
              "      <th>no_regularization</th>\n",
              "      <th>regularization</th>\n",
              "    </tr>\n",
              "  </thead>\n",
              "  <tbody>\n",
              "    <tr>\n",
              "      <th>Theta 0</th>\n",
              "      <td>-0.017270</td>\n",
              "      <td>-0.017270</td>\n",
              "    </tr>\n",
              "    <tr>\n",
              "      <th>Theta 1</th>\n",
              "      <td>0.028868</td>\n",
              "      <td>0.027714</td>\n",
              "    </tr>\n",
              "    <tr>\n",
              "      <th>Theta 2</th>\n",
              "      <td>-0.007146</td>\n",
              "      <td>-0.006861</td>\n",
              "    </tr>\n",
              "  </tbody>\n",
              "</table>\n",
              "</div>\n",
              "      <button class=\"colab-df-convert\" onclick=\"convertToInteractive('df-f58c6c35-3d84-4048-8a4a-76189c635a9c')\"\n",
              "              title=\"Convert this dataframe to an interactive table.\"\n",
              "              style=\"display:none;\">\n",
              "        \n",
              "  <svg xmlns=\"http://www.w3.org/2000/svg\" height=\"24px\"viewBox=\"0 0 24 24\"\n",
              "       width=\"24px\">\n",
              "    <path d=\"M0 0h24v24H0V0z\" fill=\"none\"/>\n",
              "    <path d=\"M18.56 5.44l.94 2.06.94-2.06 2.06-.94-2.06-.94-.94-2.06-.94 2.06-2.06.94zm-11 1L8.5 8.5l.94-2.06 2.06-.94-2.06-.94L8.5 2.5l-.94 2.06-2.06.94zm10 10l.94 2.06.94-2.06 2.06-.94-2.06-.94-.94-2.06-.94 2.06-2.06.94z\"/><path d=\"M17.41 7.96l-1.37-1.37c-.4-.4-.92-.59-1.43-.59-.52 0-1.04.2-1.43.59L10.3 9.45l-7.72 7.72c-.78.78-.78 2.05 0 2.83L4 21.41c.39.39.9.59 1.41.59.51 0 1.02-.2 1.41-.59l7.78-7.78 2.81-2.81c.8-.78.8-2.07 0-2.86zM5.41 20L4 18.59l7.72-7.72 1.47 1.35L5.41 20z\"/>\n",
              "  </svg>\n",
              "      </button>\n",
              "      \n",
              "  <style>\n",
              "    .colab-df-container {\n",
              "      display:flex;\n",
              "      flex-wrap:wrap;\n",
              "      gap: 12px;\n",
              "    }\n",
              "\n",
              "    .colab-df-convert {\n",
              "      background-color: #E8F0FE;\n",
              "      border: none;\n",
              "      border-radius: 50%;\n",
              "      cursor: pointer;\n",
              "      display: none;\n",
              "      fill: #1967D2;\n",
              "      height: 32px;\n",
              "      padding: 0 0 0 0;\n",
              "      width: 32px;\n",
              "    }\n",
              "\n",
              "    .colab-df-convert:hover {\n",
              "      background-color: #E2EBFA;\n",
              "      box-shadow: 0px 1px 2px rgba(60, 64, 67, 0.3), 0px 1px 3px 1px rgba(60, 64, 67, 0.15);\n",
              "      fill: #174EA6;\n",
              "    }\n",
              "\n",
              "    [theme=dark] .colab-df-convert {\n",
              "      background-color: #3B4455;\n",
              "      fill: #D2E3FC;\n",
              "    }\n",
              "\n",
              "    [theme=dark] .colab-df-convert:hover {\n",
              "      background-color: #434B5C;\n",
              "      box-shadow: 0px 1px 3px 1px rgba(0, 0, 0, 0.15);\n",
              "      filter: drop-shadow(0px 1px 2px rgba(0, 0, 0, 0.3));\n",
              "      fill: #FFFFFF;\n",
              "    }\n",
              "  </style>\n",
              "\n",
              "      <script>\n",
              "        const buttonEl =\n",
              "          document.querySelector('#df-f58c6c35-3d84-4048-8a4a-76189c635a9c button.colab-df-convert');\n",
              "        buttonEl.style.display =\n",
              "          google.colab.kernel.accessAllowed ? 'block' : 'none';\n",
              "\n",
              "        async function convertToInteractive(key) {\n",
              "          const element = document.querySelector('#df-f58c6c35-3d84-4048-8a4a-76189c635a9c');\n",
              "          const dataTable =\n",
              "            await google.colab.kernel.invokeFunction('convertToInteractive',\n",
              "                                                     [key], {});\n",
              "          if (!dataTable) return;\n",
              "\n",
              "          const docLinkHtml = 'Like what you see? Visit the ' +\n",
              "            '<a target=\"_blank\" href=https://colab.research.google.com/notebooks/data_table.ipynb>data table notebook</a>'\n",
              "            + ' to learn more about interactive tables.';\n",
              "          element.innerHTML = '';\n",
              "          dataTable['output_type'] = 'display_data';\n",
              "          await google.colab.output.renderOutput(dataTable, element);\n",
              "          const docLink = document.createElement('div');\n",
              "          docLink.innerHTML = docLinkHtml;\n",
              "          element.appendChild(docLink);\n",
              "        }\n",
              "      </script>\n",
              "    </div>\n",
              "  </div>\n",
              "  "
            ]
          },
          "metadata": {},
          "execution_count": 718
        }
      ]
    },
    {
      "cell_type": "markdown",
      "source": [
        "Dapat dilihat bahwasanya nilai theta 0 tidak berubah ketika diregularisasi maupun tidak, sesuai dengan rumus dari gradient descent yang sama pada theta 0 di regularisasi dengan seluruh nilai theta di non-regularisasi"
      ],
      "metadata": {
        "id": "u9tC0GorBoap"
      }
    }
  ]
}